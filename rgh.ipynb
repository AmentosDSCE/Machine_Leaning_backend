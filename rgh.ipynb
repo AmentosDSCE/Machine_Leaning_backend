{
 "cells": [
  {
   "cell_type": "code",
   "execution_count": 1,
   "metadata": {},
   "outputs": [],
   "source": [
    "import pandas as pd"
   ]
  },
  {
   "cell_type": "code",
   "execution_count": 2,
   "metadata": {},
   "outputs": [],
   "source": [
    "data = pd.read_csv(\"schemes.csv\")"
   ]
  },
  {
   "cell_type": "code",
   "execution_count": 10,
   "metadata": {},
   "outputs": [
    {
     "data": {
      "text/plain": [
       "(20, 9)"
      ]
     },
     "execution_count": 10,
     "metadata": {},
     "output_type": "execute_result"
    }
   ],
   "source": [
    "data.shape"
   ]
  },
  {
   "cell_type": "code",
   "execution_count": 13,
   "metadata": {},
   "outputs": [],
   "source": [
    "values= data.iloc[:, 1:].values"
   ]
  },
  {
   "cell_type": "code",
   "execution_count": 12,
   "metadata": {},
   "outputs": [],
   "source": [
    "example_array = [1,0,-1,0,0,1,-1,1]"
   ]
  },
  {
   "cell_type": "code",
   "execution_count": 14,
   "metadata": {},
   "outputs": [
    {
     "data": {
      "text/plain": [
       "array([[-1,  1,  0,  1,  1,  1,  0,  0],\n",
       "       [ 1,  0,  1,  1,  0,  1,  0,  0],\n",
       "       [ 1,  1,  0,  1,  1,  0,  1,  1],\n",
       "       [ 0,  1,  1,  0,  1, -1,  0,  1],\n",
       "       [ 0,  1, -1,  1,  0,  1,  1,  1],\n",
       "       [ 1,  0,  0,  1,  0,  0,  1,  0],\n",
       "       [ 1,  1, -1,  1,  0,  0,  0,  0],\n",
       "       [ 0,  0,  0,  0, -1,  1,  0, -1],\n",
       "       [ 1, -1,  1,  1,  0,  1,  0,  1],\n",
       "       [ 1,  1,  1,  0,  0,  1,  0,  0],\n",
       "       [ 0,  0, -1, -1,  1,  0,  1,  0],\n",
       "       [-1,  1,  1,  1,  1,  1,  1,  1],\n",
       "       [ 1, -1,  0, -1,  0,  0,  1, -1],\n",
       "       [ 0,  1,  1,  1,  1,  1,  0,  1],\n",
       "       [ 1, -1, -1,  1,  1,  0,  0,  0],\n",
       "       [ 1,  1,  1,  0,  1,  1,  1,  0],\n",
       "       [ 0,  0,  0,  1,  0,  1,  0, -1],\n",
       "       [ 1,  0,  0,  1,  0,  1,  0,  1],\n",
       "       [ 0,  1,  1,  1,  1,  0,  0,  1],\n",
       "       [ 1,  0,  0,  1, -1, -1,  0,  0]], dtype=int64)"
      ]
     },
     "execution_count": 14,
     "metadata": {},
     "output_type": "execute_result"
    }
   ],
   "source": [
    "values"
   ]
  },
  {
   "cell_type": "code",
   "execution_count": 15,
   "metadata": {},
   "outputs": [
    {
     "data": {
      "text/plain": [
       "(20, 8)"
      ]
     },
     "execution_count": 15,
     "metadata": {},
     "output_type": "execute_result"
    }
   ],
   "source": [
    "values.shape"
   ]
  },
  {
   "cell_type": "code",
   "execution_count": 16,
   "metadata": {},
   "outputs": [
    {
     "data": {
      "text/plain": [
       "20"
      ]
     },
     "execution_count": 16,
     "metadata": {},
     "output_type": "execute_result"
    }
   ],
   "source": [
    "len(values)"
   ]
  },
  {
   "cell_type": "code",
   "execution_count": 19,
   "metadata": {},
   "outputs": [],
   "source": [
    "count =[]\n",
    "for x in values:\n",
    "    c=0\n",
    "    for k in range(0,8):\n",
    "        if x[k]==example_array[k]:\n",
    "            c+=1\n",
    "    count.append(c)"
   ]
  },
  {
   "cell_type": "code",
   "execution_count": 20,
   "metadata": {},
   "outputs": [
    {
     "data": {
      "text/plain": [
       "[1, 4, 2, 2, 4, 3, 3, 3, 4, 4, 2, 2, 2, 2, 2, 3, 3, 5, 1, 2]"
      ]
     },
     "execution_count": 20,
     "metadata": {},
     "output_type": "execute_result"
    }
   ],
   "source": [
    "count"
   ]
  },
  {
   "cell_type": "code",
   "execution_count": 21,
   "metadata": {},
   "outputs": [
    {
     "data": {
      "text/plain": [
       "20"
      ]
     },
     "execution_count": 21,
     "metadata": {},
     "output_type": "execute_result"
    }
   ],
   "source": [
    "len(count)"
   ]
  },
  {
   "cell_type": "code",
   "execution_count": 24,
   "metadata": {},
   "outputs": [],
   "source": [
    "import numpy as np\n",
    "count = np.array(count)"
   ]
  },
  {
   "cell_type": "code",
   "execution_count": 25,
   "metadata": {},
   "outputs": [],
   "source": [
    "ezAns = count.argsort()[-3:][::-1]"
   ]
  },
  {
   "cell_type": "code",
   "execution_count": 26,
   "metadata": {},
   "outputs": [
    {
     "data": {
      "text/plain": [
       "array([17,  9,  1], dtype=int64)"
      ]
     },
     "execution_count": 26,
     "metadata": {},
     "output_type": "execute_result"
    }
   ],
   "source": [
    "ezAns"
   ]
  },
  {
   "cell_type": "code",
   "execution_count": 27,
   "metadata": {},
   "outputs": [
    {
     "data": {
      "text/plain": [
       "'Price Support Scheme (PSS)'"
      ]
     },
     "execution_count": 27,
     "metadata": {},
     "output_type": "execute_result"
    }
   ],
   "source": [
    "data['scheme_names'][17]"
   ]
  },
  {
   "cell_type": "code",
   "execution_count": null,
   "metadata": {},
   "outputs": [],
   "source": []
  }
 ],
 "metadata": {
  "kernelspec": {
   "display_name": "Python 3",
   "language": "python",
   "name": "python3"
  },
  "language_info": {
   "codemirror_mode": {
    "name": "ipython",
    "version": 3
   },
   "file_extension": ".py",
   "mimetype": "text/x-python",
   "name": "python",
   "nbconvert_exporter": "python",
   "pygments_lexer": "ipython3",
   "version": "3.10.10"
  },
  "orig_nbformat": 4
 },
 "nbformat": 4,
 "nbformat_minor": 2
}
